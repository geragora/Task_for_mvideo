{
 "cells": [
  {
   "cell_type": "code",
   "execution_count": 1,
   "id": "ea7b7148-c64a-4cfb-aaa4-abb8911cc8fb",
   "metadata": {
    "tags": []
   },
   "outputs": [
    {
     "name": "stdout",
     "output_type": "stream",
     "text": [
      "<class 'pandas.core.frame.DataFrame'>\n",
      "RangeIndex: 237 entries, 0 to 236\n",
      "Data columns (total 3 columns):\n",
      " #   Column                      Non-Null Count  Dtype \n",
      "---  ------                      --------------  ----- \n",
      " 0   Количество больничных дней  237 non-null    object\n",
      " 1   Возраст                     237 non-null    object\n",
      " 2   Пол                         237 non-null    object\n",
      "dtypes: object(3)\n",
      "memory usage: 5.7+ KB\n"
     ]
    }
   ],
   "source": [
    "import pandas as pd\n",
    "import pandas as pd\n",
    "import matplotlib.pyplot as plt\n",
    "import seaborn as sns\n",
    "from scipy import stats\n",
    "\n",
    "\n",
    "with open('stata.txt', 'r', encoding='cp1251') as file:\n",
    "    content = file.read()\n",
    "\n",
    "content = content.replace('\"', '')\n",
    "\n",
    "lines = content.strip().split('\\n')\n",
    "header = lines[0].split(',')\n",
    "data = [line.split(',') for line in lines[1:]]\n",
    "\n",
    "data = pd.DataFrame(data, columns=header)\n",
    "data.info()"
   ]
  },
  {
   "cell_type": "code",
   "execution_count": 2,
   "id": "ff09494a-a53e-4722-a281-c3a442d438dc",
   "metadata": {
    "tags": []
   },
   "outputs": [
    {
     "data": {
      "text/html": [
       "<div>\n",
       "<style scoped>\n",
       "    .dataframe tbody tr th:only-of-type {\n",
       "        vertical-align: middle;\n",
       "    }\n",
       "\n",
       "    .dataframe tbody tr th {\n",
       "        vertical-align: top;\n",
       "    }\n",
       "\n",
       "    .dataframe thead th {\n",
       "        text-align: right;\n",
       "    }\n",
       "</style>\n",
       "<table border=\"1\" class=\"dataframe\">\n",
       "  <thead>\n",
       "    <tr style=\"text-align: right;\">\n",
       "      <th></th>\n",
       "      <th>work_days</th>\n",
       "      <th>age</th>\n",
       "      <th>gender</th>\n",
       "    </tr>\n",
       "  </thead>\n",
       "  <tbody>\n",
       "    <tr>\n",
       "      <th>0</th>\n",
       "      <td>5</td>\n",
       "      <td>39</td>\n",
       "      <td>Ж</td>\n",
       "    </tr>\n",
       "    <tr>\n",
       "      <th>1</th>\n",
       "      <td>4</td>\n",
       "      <td>54</td>\n",
       "      <td>М</td>\n",
       "    </tr>\n",
       "    <tr>\n",
       "      <th>2</th>\n",
       "      <td>4</td>\n",
       "      <td>26</td>\n",
       "      <td>М</td>\n",
       "    </tr>\n",
       "    <tr>\n",
       "      <th>3</th>\n",
       "      <td>5</td>\n",
       "      <td>42</td>\n",
       "      <td>М</td>\n",
       "    </tr>\n",
       "    <tr>\n",
       "      <th>4</th>\n",
       "      <td>4</td>\n",
       "      <td>29</td>\n",
       "      <td>М</td>\n",
       "    </tr>\n",
       "  </tbody>\n",
       "</table>\n",
       "</div>"
      ],
      "text/plain": [
       "   work_days  age gender\n",
       "0          5   39      Ж\n",
       "1          4   54      М\n",
       "2          4   26      М\n",
       "3          5   42      М\n",
       "4          4   29      М"
      ]
     },
     "execution_count": 2,
     "metadata": {},
     "output_type": "execute_result"
    }
   ],
   "source": [
    "data.rename(columns={'Количество больничных дней':'work_days', 'Возраст': 'age', 'Пол': 'gender'}, inplace=True)\n",
    "data.work_days = data.work_days.astype(int)\n",
    "data.age =data.age.astype(int)\n",
    "data.head()"
   ]
  },
  {
   "cell_type": "markdown",
   "id": "84abb76e-36b4-46a6-b4ba-295024e11396",
   "metadata": {
    "tags": []
   },
   "source": [
    "**Случай первый:**\n",
    "\n",
    "- H0: Мужчины пропускают в течение года более 2 рабочих дней  по болезни также как и женщины.\n",
    "- H1: Мужчины пропускают в течение года более 2 рабочих дней значимо чаще женщин"
   ]
  },
  {
   "cell_type": "markdown",
   "id": "48014645-a214-4a34-9a6d-5b14a221595c",
   "metadata": {},
   "source": [
    "Проверим распределение"
   ]
  },
  {
   "cell_type": "code",
   "execution_count": 3,
   "id": "903361ff-b129-45ec-9875-cab14bfaa076",
   "metadata": {
    "tags": []
   },
   "outputs": [
    {
     "data": {
      "image/png": "[encoded data removed]",
      "text/plain": [
       "<Figure size 432x288 with 1 Axes>"
      ]
     },
     "metadata": {
      "needs_background": "light"
     },
     "output_type": "display_data"
    }
   ],
   "source": [
    "sns.set_style(\"darkgrid\")\n",
    "sns.histplot(data = data[data.work_days>2], x='work_days', hue=\"gender\",kde = True,binwidth=1, palette=['pink', 'blue'])\n",
    "plt.title('Распределение пропущенных дней(от 2) в зависимости от гендера')\n",
    "plt.show()"
   ]
  },
  {
   "cell_type": "markdown",
   "id": "9ab394f2-24ec-40b5-82ac-b1605dedf4c0",
   "metadata": {},
   "source": [
    "Видно, что распределения далеки от нормального, поэтому будем использовать U-критерий Манна - Уитни"
   ]
  },
  {
   "cell_type": "code",
   "execution_count": 4,
   "id": "baa7d0d3-8b7d-4591-bf3e-c1af3336ca8f",
   "metadata": {
    "tags": []
   },
   "outputs": [
    {
     "data": {
      "text/plain": [
       "0.9548173130538878"
      ]
     },
     "execution_count": 4,
     "metadata": {},
     "output_type": "execute_result"
    }
   ],
   "source": [
    "_,p_value = stats.mannwhitneyu(\n",
    "    x = data[(data.gender == 'М') & (data.work_days>2)].work_days,\n",
    "    y = data[(data.gender == 'Ж') & (data.work_days>2)].work_days)\n",
    "p_value"
   ]
  },
  {
   "cell_type": "markdown",
   "id": "79e801e6-73a2-422d-bf7a-262ff1cc6675",
   "metadata": {
    "tags": []
   },
   "source": [
    "p_value гораздо больше чем 0.05, а это означает, что утверждение о том, что мужчины пропускают в течение года более 2 рабочих дней значимо чаще женщин мы отвергаем!"
   ]
  },
  {
   "cell_type": "markdown",
   "id": "4a2e294f-b755-4304-86a9-9e243495fb63",
   "metadata": {
    "tags": []
   },
   "source": [
    "**Случай второй:**\n",
    "\n",
    "- H0: Работники старше 35 лет пропускают в течение года более 2 рабочих дней по болезни также как и свои более молодые коллеги.\n",
    "- H1: Работники старше 35 лет пропускают в течение года более 2 рабочих дней по болезни значимо чаще своих более молодых коллег.\n",
    "\n"
   ]
  },
  {
   "cell_type": "markdown",
   "id": "64b2fdac-80a4-4479-b112-1709d4fd45c5",
   "metadata": {
    "tags": []
   },
   "source": [
    "Проверим распределение"
   ]
  },
  {
   "cell_type": "code",
   "execution_count": 7,
   "id": "e859cf51-0e0e-48d8-ba33-2863dc707ccb",
   "metadata": {
    "tags": []
   },
   "outputs": [
    {
     "data": {
      "image/png": "[encoded data removed]",
      "text/plain": [
       "<Figure size 432x288 with 1 Axes>"
      ]
     },
     "metadata": {},
     "output_type": "display_data"
    }
   ],
   "source": [
    "sns.set_style(\"darkgrid\")\n",
    "sns.histplot(data = data[(data.age<35) & (data.work_days>2)], x=\"work_days\",kde = True,binwidth=1, color = 'black')\n",
    "sns.histplot(data = data[(data.age>35) & (data.work_days>2)], x=\"work_days\",kde = True,binwidth=1, color = 'red')\n",
    "plt.title(f'Распределение пропущенных дней(от 2) в зависимости от возраста(порог {35})')\n",
    "plt.show()"
   ]
  },
  {
   "cell_type": "markdown",
   "id": "b88b08de-822e-4b8b-80e9-d1c9b305f36e",
   "metadata": {},
   "source": [
    "Видно, что распределения далеки от нормального, поэтому будем использовать U-критерий Манна - Уитни"
   ]
  },
  {
   "cell_type": "code",
   "execution_count": 6,
   "id": "a27a5369-6daa-425e-a343-5048f5fc7ad3",
   "metadata": {
    "tags": []
   },
   "outputs": [
    {
     "data": {
      "text/plain": [
       "0.4492324060145413"
      ]
     },
     "execution_count": 6,
     "metadata": {},
     "output_type": "execute_result"
    }
   ],
   "source": [
    "_,p_value = stats.mannwhitneyu(\n",
    "    x = data[(data.age<35) & (data.work_days>2)].work_days,\n",
    "    y = data[(data.age>35) & (data.work_days>2)].work_days)\n",
    "p_value"
   ]
  },
  {
   "cell_type": "markdown",
   "id": "371c77fd-ba21-4c0d-9a1a-63b5b23a757f",
   "metadata": {},
   "source": [
    "p_value гораздо больше чем 0.05, а это означает, что гипотезу о том что,работники старше 35 лет пропускают в течение года более 2 рабочих дней по болезни значимо чаще своих более молодых коллег мы отвергаем!"
   ]
  }
 ],
 "metadata": {
  "kernelspec": {
   "display_name": "Python 3 (ipykernel)",
   "language": "python",
   "name": "python3"
  },
  "language_info": {
   "codemirror_mode": {
    "name": "ipython",
    "version": 3
   },
   "file_extension": ".py",
   "mimetype": "text/x-python",
   "name": "python",
   "nbconvert_exporter": "python",
   "pygments_lexer": "ipython3",
   "version": "3.10.4"
  }
 },
 "nbformat": 4,
 "nbformat_minor": 5
}
